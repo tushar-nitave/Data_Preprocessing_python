{
 "cells": [
  {
   "cell_type": "markdown",
   "metadata": {},
   "source": [
    "### This notebook contains the code for importing dataset and creating the matrix which contains dataset on the basis of dependent and independent variable."
   ]
  },
  {
   "cell_type": "code",
   "execution_count": 1,
   "metadata": {
    "collapsed": true
   },
   "outputs": [],
   "source": [
    "#importing libraries\n",
    "import numpy as np\n",
    "import pandas as pd\n",
    "import matplotlib.pyplot as pt"
   ]
  },
  {
   "cell_type": "code",
   "execution_count": 3,
   "metadata": {
    "collapsed": true
   },
   "outputs": [],
   "source": [
    "#import dataset using pandas\n",
    "dataset = pd.read_csv('iris.csv')"
   ]
  },
  {
   "cell_type": "code",
   "execution_count": 22,
   "metadata": {
    "collapsed": true
   },
   "outputs": [],
   "source": [
    "#view the imported dataset by removing '#' present in front of dataset variable\n",
    "#dataset\n",
    "\n",
    "#creating a feature matrix which contains set of independent variables\n",
    "X = dataset.iloc[:, :-1].values\n",
    "\n",
    "#creating a matrix which contains set of dependent variable\n",
    "Y = dataset.iloc[:, 4].values"
   ]
  },
  {
   "cell_type": "code",
   "execution_count": 21,
   "metadata": {},
   "outputs": [
    {
     "name": "stdout",
     "output_type": "stream",
     "text": [
      "\t------------------Matrix X------------------\n",
      "\n",
      "      Sepal-Width  Sepal-Height  Petal-Length  Petal-Width\n",
      "0            4.9           3.0           1.4          0.2\n",
      "1            4.7           3.2           1.3          0.2\n",
      "2            4.6           3.1           1.5          0.2\n",
      "3            5.0           3.6           1.4          0.2\n",
      "4            5.4           3.9           1.7          0.4\n",
      "5            4.6           3.4           1.4          0.3\n",
      "6            5.0           3.4           1.5          0.2\n",
      "7            4.4           2.9           1.4          0.2\n",
      "8            4.9           3.1           1.5          0.1\n",
      "9            5.4           3.7           1.5          0.2\n",
      "10           4.8           3.4           1.6          0.2\n",
      "11           4.8           3.0           1.4          0.1\n",
      "12           4.3           3.0           1.1          0.1\n",
      "13           5.8           4.0           1.2          0.2\n",
      "14           5.7           4.4           1.5          0.4\n",
      "15           5.4           3.9           1.3          0.4\n",
      "16           5.1           3.5           1.4          0.3\n",
      "17           5.7           3.8           1.7          0.3\n",
      "18           5.1           3.8           1.5          0.3\n",
      "19           5.4           3.4           1.7          0.2\n",
      "20           5.1           3.7           1.5          0.4\n",
      "21           4.6           3.6           1.0          0.2\n",
      "22           5.1           3.3           1.7          0.5\n",
      "23           4.8           3.4           1.9          0.2\n",
      "24           5.0           3.0           1.6          0.2\n",
      "25           5.0           3.4           1.6          0.4\n",
      "26           5.2           3.5           1.5          0.2\n",
      "27           5.2           3.4           1.4          0.2\n",
      "28           4.7           3.2           1.6          0.2\n",
      "29           4.8           3.1           1.6          0.2\n",
      "..           ...           ...           ...          ...\n",
      "119          6.9           3.2           5.7          2.3\n",
      "120          5.6           2.8           4.9          2.0\n",
      "121          7.7           2.8           6.7          2.0\n",
      "122          6.3           2.7           4.9          1.8\n",
      "123          6.7           3.3           5.7          2.1\n",
      "124          7.2           3.2           6.0          1.8\n",
      "125          6.2           2.8           4.8          1.8\n",
      "126          6.1           3.0           4.9          1.8\n",
      "127          6.4           2.8           5.6          2.1\n",
      "128          7.2           3.0           5.8          1.6\n",
      "129          NaN           2.8           6.1          1.9\n",
      "130          7.9           3.8           6.4          2.0\n",
      "131          6.4           2.8           5.6          2.2\n",
      "132          6.3           2.8           5.1          1.5\n",
      "133          6.1           2.6           5.6          1.4\n",
      "134          7.7           3.0           6.1          2.3\n",
      "135          6.3           3.4           5.6          2.4\n",
      "136          6.4           3.1           5.5          1.8\n",
      "137          6.0           3.0           4.8          1.8\n",
      "138          6.9           3.1           5.4          2.1\n",
      "139          6.7           3.1           5.6          2.4\n",
      "140          6.9           3.1           5.1          2.3\n",
      "141          5.8           2.7           5.1          NaN\n",
      "142          6.8           3.2           5.9          2.3\n",
      "143          6.7           3.3           5.7          2.5\n",
      "144          6.7           3.0           5.2          2.3\n",
      "145          6.3           2.5           5.0          1.9\n",
      "146          6.5           3.0           5.2          2.0\n",
      "147          6.2           3.4           5.4          2.3\n",
      "148          5.9           3.0           5.1          1.8\n",
      "\n",
      "[149 rows x 4 columns]\n",
      "\n",
      "\t------------------Matrix Y------------------\n",
      "\n",
      " 0         Iris-setosa\n",
      "1         Iris-setosa\n",
      "2         Iris-setosa\n",
      "3         Iris-setosa\n",
      "4         Iris-setosa\n",
      "5         Iris-setosa\n",
      "6         Iris-setosa\n",
      "7         Iris-setosa\n",
      "8         Iris-setosa\n",
      "9         Iris-setosa\n",
      "10        Iris-setosa\n",
      "11        Iris-setosa\n",
      "12        Iris-setosa\n",
      "13        Iris-setosa\n",
      "14        Iris-setosa\n",
      "15        Iris-setosa\n",
      "16        Iris-setosa\n",
      "17        Iris-setosa\n",
      "18        Iris-setosa\n",
      "19        Iris-setosa\n",
      "20        Iris-setosa\n",
      "21        Iris-setosa\n",
      "22        Iris-setosa\n",
      "23        Iris-setosa\n",
      "24        Iris-setosa\n",
      "25        Iris-setosa\n",
      "26        Iris-setosa\n",
      "27        Iris-setosa\n",
      "28        Iris-setosa\n",
      "29        Iris-setosa\n",
      "            ...      \n",
      "119    Iris-virginica\n",
      "120    Iris-virginica\n",
      "121    Iris-virginica\n",
      "122    Iris-virginica\n",
      "123    Iris-virginica\n",
      "124    Iris-virginica\n",
      "125    Iris-virginica\n",
      "126    Iris-virginica\n",
      "127    Iris-virginica\n",
      "128    Iris-virginica\n",
      "129    Iris-virginica\n",
      "130    Iris-virginica\n",
      "131    Iris-virginica\n",
      "132    Iris-virginica\n",
      "133    Iris-virginica\n",
      "134    Iris-virginica\n",
      "135    Iris-virginica\n",
      "136    Iris-virginica\n",
      "137    Iris-virginica\n",
      "138    Iris-virginica\n",
      "139    Iris-virginica\n",
      "140    Iris-virginica\n",
      "141    Iris-virginica\n",
      "142    Iris-virginica\n",
      "143    Iris-virginica\n",
      "144    Iris-virginica\n",
      "145    Iris-virginica\n",
      "146    Iris-virginica\n",
      "147    Iris-virginica\n",
      "148    Iris-virginica\n",
      "Name: Type, Length: 149, dtype: object\n"
     ]
    }
   ],
   "source": [
    "# Now we can see the two matrix created 'X' which contains independent variables and 'Y' which contains dependent variable\n",
    "print('\\t------------------Matrix X------------------\\n\\n',X)\n",
    "print('\\n\\t------------------Matrix Y------------------\\n\\n',Y)"
   ]
  }
 ],
 "metadata": {
  "kernelspec": {
   "display_name": "Python 3",
   "language": "python",
   "name": "python3"
  },
  "language_info": {
   "codemirror_mode": {
    "name": "ipython",
    "version": 3
   },
   "file_extension": ".py",
   "mimetype": "text/x-python",
   "name": "python",
   "nbconvert_exporter": "python",
   "pygments_lexer": "ipython3",
   "version": "3.6.3"
  }
 },
 "nbformat": 4,
 "nbformat_minor": 2
}
